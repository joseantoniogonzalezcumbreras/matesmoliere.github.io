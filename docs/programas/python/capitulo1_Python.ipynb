{
 "cells": [
  {
   "cell_type": "markdown",
   "metadata": {
    "colab_type": "text",
    "id": "QxxH0AcX15bs"
   },
   "source": [
    "# Capítulo 1 - Python como calculadora\n",
    "**2020 Colegio Molière**\n",
    "\n",
    "*Antonio Rodríguez Verdugo, noviembre 1, 2020*\n",
    "\n",
    "¡Bienvenidos a Python!  Con este notebook demostraremos cómo podemos iniciarnos rápidamente en Python utilizando la plataforma colaborativa de Google, Colab [Colaboratory](https://colab.research.google.com). Colab es básicamente un servicio gratuito que puede ejecutar código Python en la nube.\n",
    "\n",
    "Aquí os mostraré algunos de los elementos básicos de la programación en Python. Veremos como:\n",
    "\n",
    "* Imprimir por pantalla.\n",
    "* Realizar simples cálculos matemáticos.\n",
    "* Operadores y Variables.\n",
    "* Crear un programa para realizar cálculos personales."
   ]
  },
  {
   "cell_type": "markdown",
   "metadata": {
    "colab_type": "text",
    "id": "uHXHmHwv--ww"
   },
   "source": [
    "## Cómo lo haremos\n",
    "\n",
    "Los notebooks de Jupyter tienen dos tipos de celdas: celdas \"Markdown\", como ésta que contienen texto formateado, y celdas \"Code\", que contienen el código a ejecutar.\n",
    "\n",
    "Para ejecutar el código de un celda, podemos:\n",
    "* Hacer click sobre el icono **Play** a la izquierda de la celda.\n",
    "* Presionar **Cmd (or Ctrl) + Enter** para ejecutar la celda sobre la que estamos. \n",
    "* O presionar **Shift + Enter** para ejecutar la celda sobre la que estamos y avanzar a la siguiente.\n",
    "\n",
    "Puedes elegir cualquiera de las opciones para ejecutar el código que tienes debajo. Una vez que se ha ejecutado el código de la celda, verás el resultado a continuación.\n",
    "\n",
    "***Sería interesante que cambiaras el contenido de las celdas para que puedas ver los cambios que se producen cuando tú ingresas textos o números distintos a los que yo he puesto como ejemplo***"
   ]
  },
  {
   "cell_type": "code",
   "execution_count": null,
   "metadata": {
    "colab": {},
    "colab_type": "code",
    "id": "gQSi2cI9_EZG"
   },
   "outputs": [],
   "source": [
    "2 + 2"
   ]
  },
  {
   "cell_type": "markdown",
   "metadata": {},
   "source": [
    "## 1.1 Imprimir\n",
    "¿Cómo imprime un programa algo en pantalla? Mira los siguientes ejemplos:"
   ]
  },
  {
   "cell_type": "markdown",
   "metadata": {},
   "source": [
    "### 1.1.1 Imprimir texto"
   ]
  },
  {
   "cell_type": "code",
   "execution_count": null,
   "metadata": {
    "colab": {},
    "colab_type": "code",
    "id": "0a6RP0OvBGpl",
    "scrolled": true
   },
   "outputs": [],
   "source": [
    "print(\"¡Hola Mundo!\")"
   ]
  },
  {
   "cell_type": "markdown",
   "metadata": {
    "colab": {},
    "colab_type": "code",
    "id": "Dvqpvyi2BKOv"
   },
   "source": [
    "¿Cómo sería el programa `Hola Mundo` en otros lenguajes de programación? Compruébalo en la Wikipedia. En ella se muestran una buena cantidad de programas de `Hola Mundo` escritos en distintos lenguajes de programación:http://es.wikipedia.org/wiki/Hola_mundo\n",
    "\n",
    "Recuerda, el comando para imprimir en Python es fácil. Simplemente escribe print. Después del comando print hay un par de paréntesis ( ). Dentro de estos paréntesis está lo que debería ser imprimido por pantalla. El usar paréntesis para pasar información a una función es una práctica habitual en matemáticas y lenguajes de programación.\n",
    "\n",
    "Fíjate que hay comillas dobles rodeando el texto a ser imprimido. Si una declaración de print tiene comillas rodeando el texto, el ordenador lo imprimirá tal cual está escrito. Por ejemplo, este programa imprimirá 2+3:"
   ]
  },
  {
   "cell_type": "code",
   "execution_count": null,
   "metadata": {},
   "outputs": [],
   "source": [
    "print('2 + 3')"
   ]
  },
  {
   "cell_type": "code",
   "execution_count": null,
   "metadata": {
    "colab": {},
    "colab_type": "code",
    "id": "wYHhEJnwBnsY"
   },
   "outputs": [],
   "source": [
    "# Ahora te toca a tí: crea aquí tu propio comando print() para imprimir tu nombre\n",
    "print()"
   ]
  },
  {
   "cell_type": "markdown",
   "metadata": {
    "colab_type": "text",
    "id": "i4k796DieJ0_"
   },
   "source": [
    "**Una observación sobre print()**\n",
    "\n",
    "* Por defecto, un notebook Colab/Jupyter imprimirá el resultado después de ejecutar la celda sin necesidad de especificar el comando `print()`.  \n",
    "* Sin embargo, si queremos imprimir el resultado de varias líneas de código, necesitamos usar el comando `print()` en cada una de ellas (como se ve debajo).\n",
    "* Algunas veces, puedes suprimir el resultado de la última línea añadiéndole un punto y coma `;` al final."
   ]
  },
  {
   "cell_type": "code",
   "execution_count": null,
   "metadata": {
    "colab": {},
    "colab_type": "code",
    "id": "hP7VTnDB_dRh"
   },
   "outputs": [],
   "source": [
    "3\n",
    "4\n",
    "5"
   ]
  },
  {
   "cell_type": "code",
   "execution_count": null,
   "metadata": {
    "colab": {},
    "colab_type": "code",
    "id": "rbULmpXCFJIZ"
   },
   "outputs": [],
   "source": [
    "print(3)\n",
    "print(4)\n",
    "print(5)"
   ]
  },
  {
   "cell_type": "markdown",
   "metadata": {},
   "source": [
    "### 1.1.2 Imprimir operaciones"
   ]
  },
  {
   "cell_type": "markdown",
   "metadata": {},
   "source": [
    "El siguiente programa no tiene comillas rodeando 2 + 3. El ordenador lo evaluará como una expresión matemática. Imprimirá 5 en vez de 2 + 3."
   ]
  },
  {
   "cell_type": "code",
   "execution_count": null,
   "metadata": {},
   "outputs": [],
   "source": [
    "print(2 + 3)"
   ]
  },
  {
   "cell_type": "markdown",
   "metadata": {},
   "source": [
    "El código siguiente producirá un error porque el ordenador intentará evaluar “Hola Mundo” como una expresión matemática y eso no funcionará:"
   ]
  },
  {
   "cell_type": "code",
   "execution_count": null,
   "metadata": {},
   "outputs": [],
   "source": [
    "print(Hola Mundo)"
   ]
  },
  {
   "cell_type": "markdown",
   "metadata": {},
   "source": [
    "El código anterior imprimirá un error del tipo `SyntaxError: invalid syntax`, que es la manera en que expresa el ordenador su desconocimiento de “Hola” y “Mundo”."
   ]
  },
  {
   "cell_type": "markdown",
   "metadata": {},
   "source": [
    "#### En Python tenemos las operaciones aritméticas básicas de suma `+`, resta `-`, producto `*` y división `/`"
   ]
  },
  {
   "cell_type": "code",
   "execution_count": null,
   "metadata": {},
   "outputs": [],
   "source": [
    "4 + 3"
   ]
  },
  {
   "cell_type": "code",
   "execution_count": null,
   "metadata": {},
   "outputs": [],
   "source": [
    "4 - 3"
   ]
  },
  {
   "cell_type": "code",
   "execution_count": null,
   "metadata": {},
   "outputs": [],
   "source": [
    "4 * 3"
   ]
  },
  {
   "cell_type": "code",
   "execution_count": null,
   "metadata": {},
   "outputs": [],
   "source": [
    "4 / 3"
   ]
  },
  {
   "cell_type": "markdown",
   "metadata": {},
   "source": [
    "#### Luego tenemos la potencia `**`, el cociente entero de una división `//`, y el resto entero de una división (módulo) `%`"
   ]
  },
  {
   "cell_type": "code",
   "execution_count": null,
   "metadata": {},
   "outputs": [],
   "source": [
    "4 ** 3"
   ]
  },
  {
   "cell_type": "code",
   "execution_count": null,
   "metadata": {},
   "outputs": [],
   "source": [
    "5 // 3"
   ]
  },
  {
   "cell_type": "code",
   "execution_count": null,
   "metadata": {},
   "outputs": [],
   "source": [
    "5 % 3"
   ]
  },
  {
   "cell_type": "markdown",
   "metadata": {},
   "source": [
    "### 1.1.3 Imprimir múltiples elementos\n",
    "Una declaración print puede sacar múltiples cosas a la vez, cada elemento separado por una coma. Por ejemplo, este código imprimirá `Tu nueva puntuación es 1040`"
   ]
  },
  {
   "cell_type": "code",
   "execution_count": null,
   "metadata": {},
   "outputs": [],
   "source": [
    "print('Tu nueva puntuación es', 1040)"
   ]
  },
  {
   "cell_type": "markdown",
   "metadata": {},
   "source": [
    "Intenta ahora los siguientes ejercicios:"
   ]
  },
  {
   "cell_type": "code",
   "execution_count": null,
   "metadata": {},
   "outputs": [],
   "source": [
    "print('Tu nueva puntuación es', '1010 + 30')"
   ]
  },
  {
   "cell_type": "code",
   "execution_count": null,
   "metadata": {},
   "outputs": [],
   "source": [
    "print('Tu nueva puntuación es', 1010 + 30)"
   ]
  },
  {
   "cell_type": "markdown",
   "metadata": {},
   "source": [
    "¿Observas la diferencia y el por qué?"
   ]
  },
  {
   "cell_type": "code",
   "execution_count": null,
   "metadata": {},
   "outputs": [],
   "source": []
  }
 ],
 "metadata": {
  "colab": {
   "collapsed_sections": [],
   "name": "Activity 1 Python Basics.ipynb",
   "provenance": []
  },
  "kernelspec": {
   "display_name": "Python 3",
   "language": "python",
   "name": "python3"
  },
  "language_info": {
   "codemirror_mode": {
    "name": "ipython",
    "version": 3
   },
   "file_extension": ".py",
   "mimetype": "text/x-python",
   "name": "python",
   "nbconvert_exporter": "python",
   "pygments_lexer": "ipython3",
   "version": "3.7.1"
  }
 },
 "nbformat": 4,
 "nbformat_minor": 1
}
